{
 "cells": [
  {
   "cell_type": "code",
   "execution_count": 1,
   "id": "92dc34b4-fd5b-429c-a2a7-11d7f5d6b581",
   "metadata": {},
   "outputs": [],
   "source": [
    "import pandas as pd\n",
    "import matplotlib.pyplot as plt\n",
    "import numpy as np\n",
    "import seaborn as sns\n"
   ]
  },
  {
   "cell_type": "code",
   "execution_count": 2,
   "id": "10895fe4-fa07-4fdb-975f-887d1c02e6ea",
   "metadata": {},
   "outputs": [
    {
     "data": {
      "text/html": [
       "<div>\n",
       "<style scoped>\n",
       "    .dataframe tbody tr th:only-of-type {\n",
       "        vertical-align: middle;\n",
       "    }\n",
       "\n",
       "    .dataframe tbody tr th {\n",
       "        vertical-align: top;\n",
       "    }\n",
       "\n",
       "    .dataframe thead th {\n",
       "        text-align: right;\n",
       "    }\n",
       "</style>\n",
       "<table border=\"1\" class=\"dataframe\">\n",
       "  <thead>\n",
       "    <tr style=\"text-align: right;\">\n",
       "      <th></th>\n",
       "      <th>State</th>\n",
       "      <th>Year</th>\n",
       "      <th>Type_code</th>\n",
       "      <th>Type</th>\n",
       "      <th>Gender</th>\n",
       "      <th>Age_group</th>\n",
       "      <th>Total</th>\n",
       "    </tr>\n",
       "  </thead>\n",
       "  <tbody>\n",
       "    <tr>\n",
       "      <th>0</th>\n",
       "      <td>A &amp; N Islands</td>\n",
       "      <td>2024</td>\n",
       "      <td>Causes</td>\n",
       "      <td>Failure in Examination</td>\n",
       "      <td>Female</td>\n",
       "      <td>0-14</td>\n",
       "      <td>0</td>\n",
       "    </tr>\n",
       "    <tr>\n",
       "      <th>1</th>\n",
       "      <td>A &amp; N Islands</td>\n",
       "      <td>2024</td>\n",
       "      <td>Causes</td>\n",
       "      <td>Causes Not known</td>\n",
       "      <td>Female</td>\n",
       "      <td>0-14</td>\n",
       "      <td>0</td>\n",
       "    </tr>\n",
       "    <tr>\n",
       "      <th>2</th>\n",
       "      <td>A &amp; N Islands</td>\n",
       "      <td>2024</td>\n",
       "      <td>Causes</td>\n",
       "      <td>Dowry Dispute</td>\n",
       "      <td>Female</td>\n",
       "      <td>0-14</td>\n",
       "      <td>0</td>\n",
       "    </tr>\n",
       "    <tr>\n",
       "      <th>3</th>\n",
       "      <td>A &amp; N Islands</td>\n",
       "      <td>2024</td>\n",
       "      <td>Causes</td>\n",
       "      <td>Ideological Causes/Hero Worshipping</td>\n",
       "      <td>Female</td>\n",
       "      <td>0-14</td>\n",
       "      <td>0</td>\n",
       "    </tr>\n",
       "    <tr>\n",
       "      <th>4</th>\n",
       "      <td>A &amp; N Islands</td>\n",
       "      <td>2024</td>\n",
       "      <td>Causes</td>\n",
       "      <td>Love Affairs</td>\n",
       "      <td>Female</td>\n",
       "      <td>0-14</td>\n",
       "      <td>0</td>\n",
       "    </tr>\n",
       "    <tr>\n",
       "      <th>...</th>\n",
       "      <td>...</td>\n",
       "      <td>...</td>\n",
       "      <td>...</td>\n",
       "      <td>...</td>\n",
       "      <td>...</td>\n",
       "      <td>...</td>\n",
       "      <td>...</td>\n",
       "    </tr>\n",
       "    <tr>\n",
       "      <th>237514</th>\n",
       "      <td>West Bengal</td>\n",
       "      <td>2012</td>\n",
       "      <td>Social_Status</td>\n",
       "      <td>Married</td>\n",
       "      <td>Male</td>\n",
       "      <td>0-100+</td>\n",
       "      <td>4385</td>\n",
       "    </tr>\n",
       "    <tr>\n",
       "      <th>237515</th>\n",
       "      <td>West Bengal</td>\n",
       "      <td>2012</td>\n",
       "      <td>Social_Status</td>\n",
       "      <td>Divorcee</td>\n",
       "      <td>Male</td>\n",
       "      <td>0-100+</td>\n",
       "      <td>337</td>\n",
       "    </tr>\n",
       "    <tr>\n",
       "      <th>237516</th>\n",
       "      <td>West Bengal</td>\n",
       "      <td>2012</td>\n",
       "      <td>Social_Status</td>\n",
       "      <td>Widowed/Widower</td>\n",
       "      <td>Male</td>\n",
       "      <td>0-100+</td>\n",
       "      <td>432</td>\n",
       "    </tr>\n",
       "    <tr>\n",
       "      <th>237517</th>\n",
       "      <td>West Bengal</td>\n",
       "      <td>2012</td>\n",
       "      <td>Social_Status</td>\n",
       "      <td>Never Married</td>\n",
       "      <td>Male</td>\n",
       "      <td>0-100+</td>\n",
       "      <td>2028</td>\n",
       "    </tr>\n",
       "    <tr>\n",
       "      <th>237518</th>\n",
       "      <td>West Bengal</td>\n",
       "      <td>2012</td>\n",
       "      <td>Social_Status</td>\n",
       "      <td>Seperated</td>\n",
       "      <td>Male</td>\n",
       "      <td>0-100+</td>\n",
       "      <td>313</td>\n",
       "    </tr>\n",
       "  </tbody>\n",
       "</table>\n",
       "<p>237519 rows × 7 columns</p>\n",
       "</div>"
      ],
      "text/plain": [
       "                State  Year      Type_code  \\\n",
       "0       A & N Islands  2024         Causes   \n",
       "1       A & N Islands  2024         Causes   \n",
       "2       A & N Islands  2024         Causes   \n",
       "3       A & N Islands  2024         Causes   \n",
       "4       A & N Islands  2024         Causes   \n",
       "...               ...   ...            ...   \n",
       "237514    West Bengal  2012  Social_Status   \n",
       "237515    West Bengal  2012  Social_Status   \n",
       "237516    West Bengal  2012  Social_Status   \n",
       "237517    West Bengal  2012  Social_Status   \n",
       "237518    West Bengal  2012  Social_Status   \n",
       "\n",
       "                                       Type  Gender Age_group  Total  \n",
       "0                    Failure in Examination  Female      0-14      0  \n",
       "1                          Causes Not known  Female      0-14      0  \n",
       "2                             Dowry Dispute  Female      0-14      0  \n",
       "3       Ideological Causes/Hero Worshipping  Female      0-14      0  \n",
       "4                              Love Affairs  Female      0-14      0  \n",
       "...                                     ...     ...       ...    ...  \n",
       "237514                              Married    Male    0-100+   4385  \n",
       "237515                             Divorcee    Male    0-100+    337  \n",
       "237516                      Widowed/Widower    Male    0-100+    432  \n",
       "237517                        Never Married    Male    0-100+   2028  \n",
       "237518                            Seperated    Male    0-100+    313  \n",
       "\n",
       "[237519 rows x 7 columns]"
      ]
     },
     "execution_count": 2,
     "metadata": {},
     "output_type": "execute_result"
    }
   ],
   "source": [
    "\n",
    "data=pd.read_csv(\"data1.csv\")\n",
    "data"
   ]
  },
  {
   "cell_type": "code",
   "execution_count": 3,
   "id": "1074984f-f021-446e-b8db-ef077ca549cf",
   "metadata": {},
   "outputs": [
    {
     "data": {
      "text/plain": [
       "(237519, 7)"
      ]
     },
     "execution_count": 3,
     "metadata": {},
     "output_type": "execute_result"
    }
   ],
   "source": [
    "\n",
    "\n",
    "data.shape\n"
   ]
  },
  {
   "cell_type": "code",
   "execution_count": 4,
   "id": "32b555c1-41b3-45c9-be92-914a5d6f6a2e",
   "metadata": {},
   "outputs": [
    {
     "name": "stdout",
     "output_type": "stream",
     "text": [
      "<class 'pandas.core.frame.DataFrame'>\n",
      "RangeIndex: 237519 entries, 0 to 237518\n",
      "Data columns (total 7 columns):\n",
      " #   Column     Non-Null Count   Dtype \n",
      "---  ------     --------------   ----- \n",
      " 0   State      237519 non-null  object\n",
      " 1   Year       237519 non-null  int64 \n",
      " 2   Type_code  237519 non-null  object\n",
      " 3   Type       237519 non-null  object\n",
      " 4   Gender     237519 non-null  object\n",
      " 5   Age_group  237519 non-null  object\n",
      " 6   Total      237519 non-null  int64 \n",
      "dtypes: int64(2), object(5)\n",
      "memory usage: 12.7+ MB\n"
     ]
    }
   ],
   "source": [
    "\n",
    "data.info()"
   ]
  },
  {
   "cell_type": "code",
   "execution_count": 5,
   "id": "8ebcb32e-bccf-4322-a80b-36ddecc08e7d",
   "metadata": {},
   "outputs": [
    {
     "data": {
      "text/plain": [
       "State        0\n",
       "Year         0\n",
       "Type_code    0\n",
       "Type         0\n",
       "Gender       0\n",
       "Age_group    0\n",
       "Total        0\n",
       "dtype: int64"
      ]
     },
     "execution_count": 5,
     "metadata": {},
     "output_type": "execute_result"
    }
   ],
   "source": [
    "data.isnull().sum()"
   ]
  },
  {
   "cell_type": "code",
   "execution_count": 6,
   "id": "aa71f063-7adc-41c4-a79e-5f1e2de40b2a",
   "metadata": {},
   "outputs": [
    {
     "data": {
      "text/plain": [
       "0            0\n",
       "1            0\n",
       "2            0\n",
       "3            0\n",
       "4            0\n",
       "          ... \n",
       "237514    4385\n",
       "237515     337\n",
       "237516     432\n",
       "237517    2028\n",
       "237518     313\n",
       "Name: Total, Length: 237519, dtype: int64"
      ]
     },
     "execution_count": 6,
     "metadata": {},
     "output_type": "execute_result"
    }
   ],
   "source": [
    "data['Total']"
   ]
  },
  {
   "cell_type": "code",
   "execution_count": 7,
   "id": "8fb961be-d287-4c6f-a09b-0d29377e0469",
   "metadata": {},
   "outputs": [
    {
     "data": {
      "text/plain": [
       "0            0\n",
       "1            0\n",
       "2            0\n",
       "3            0\n",
       "4            0\n",
       "          ... \n",
       "237514    4385\n",
       "237515     337\n",
       "237516     432\n",
       "237517    2028\n",
       "237518     313\n",
       "Name: Total, Length: 237519, dtype: int64"
      ]
     },
     "execution_count": 7,
     "metadata": {},
     "output_type": "execute_result"
    }
   ],
   "source": [
    "data.Total"
   ]
  },
  {
   "cell_type": "code",
   "execution_count": 8,
   "id": "6ca0e665-35c0-4095-a08a-cb4f6c255bf1",
   "metadata": {},
   "outputs": [
    {
     "data": {
      "text/plain": [
       "0            0\n",
       "1            0\n",
       "2            0\n",
       "3            0\n",
       "4            0\n",
       "          ... \n",
       "237514    4385\n",
       "237515     337\n",
       "237516     432\n",
       "237517    2028\n",
       "237518     313\n",
       "Name: Total, Length: 237519, dtype: int64"
      ]
     },
     "execution_count": 8,
     "metadata": {},
     "output_type": "execute_result"
    }
   ],
   "source": [
    "data.iloc[:,6]"
   ]
  },
  {
   "cell_type": "code",
   "execution_count": 9,
   "id": "763cf15f-4520-43e9-8371-f78251ee2ac0",
   "metadata": {},
   "outputs": [
    {
     "data": {
      "text/plain": [
       "0            0\n",
       "1            0\n",
       "2            0\n",
       "3            0\n",
       "4            0\n",
       "          ... \n",
       "237514    4385\n",
       "237515     337\n",
       "237516     432\n",
       "237517    2028\n",
       "237518     313\n",
       "Name: Total, Length: 237519, dtype: int64"
      ]
     },
     "execution_count": 9,
     "metadata": {},
     "output_type": "execute_result"
    }
   ],
   "source": [
    "data.loc[:,'Total']"
   ]
  },
  {
   "cell_type": "code",
   "execution_count": 10,
   "id": "82a1df27-4e8a-4508-acb0-f9c4a6c41190",
   "metadata": {},
   "outputs": [
    {
     "data": {
      "text/plain": [
       "13071734"
      ]
     },
     "execution_count": 10,
     "metadata": {},
     "output_type": "execute_result"
    }
   ],
   "source": [
    "data.Total.sum()\n"
   ]
  },
  {
   "cell_type": "code",
   "execution_count": null,
   "id": "51da721d-b853-4d36-930e-5bbfebcb3ee3",
   "metadata": {},
   "outputs": [],
   "source": []
  },
  {
   "cell_type": "code",
   "execution_count": 11,
   "id": "a42a74f4-a026-4e00-8784-22da3074aa92",
   "metadata": {},
   "outputs": [
    {
     "data": {
      "text/plain": [
       "901945"
      ]
     },
     "execution_count": 11,
     "metadata": {},
     "output_type": "execute_result"
    }
   ],
   "source": [
    "index=data['State']=='Maharashtra' \n",
    "data[index].Total.sum()"
   ]
  },
  {
   "cell_type": "code",
   "execution_count": 12,
   "id": "956ffea2-1fa7-4bd7-a7d3-5489aa45c389",
   "metadata": {},
   "outputs": [
    {
     "data": {
      "text/plain": [
       "901945"
      ]
     },
     "execution_count": 12,
     "metadata": {},
     "output_type": "execute_result"
    }
   ],
   "source": [
    "data[index]['Total'].sum()"
   ]
  },
  {
   "cell_type": "code",
   "execution_count": 13,
   "id": "0492c839-88b7-4f76-be21-561e1435bc67",
   "metadata": {},
   "outputs": [],
   "source": [
    "import pandas as pd\n",
    "import matplotlib.pyplot as plt\n",
    "import numpy as np"
   ]
  },
  {
   "cell_type": "code",
   "execution_count": 14,
   "id": "2ac4e246-c774-464f-b597-e27747b84481",
   "metadata": {},
   "outputs": [
    {
     "data": {
      "text/plain": [
       "State\n",
       "Total (All India)    2911862\n",
       "Total (States)       2858026\n",
       "Maharashtra           901945\n",
       "West Bengal           849936\n",
       "Tamil Nadu            818691\n",
       "Andhra Pradesh        814059\n",
       "Karnataka             734825\n",
       "Kerala                538946\n",
       "Madhya Pradesh        451535\n",
       "Gujarat               330858\n",
       "Chhattisgarh          302354\n",
       "Odisha                267234\n",
       "Rajasthan             255134\n",
       "Uttar Pradesh         233352\n",
       "Assam                 172276\n",
       "Haryana               147176\n",
       "Delhi (Ut)             84272\n",
       "Total (Uts)            53836\n",
       "Jharkhand              49720\n",
       "Punjab                 46350\n",
       "Bihar                  46214\n",
       "Tripura                45965\n",
       "Puducherry             32144\n",
       "Himachal Pradesh       26562\n",
       "Uttarakhand            18496\n",
       "Goa                    17363\n",
       "Jammu & Kashmir        14821\n",
       "Sikkim                  9606\n",
       "A & N Islands           8109\n",
       "Arunachal Pradesh       6633\n",
       "Meghalaya               5415\n",
       "Chandigarh              5164\n",
       "Mizoram                 4154\n",
       "D & N Haveli            3430\n",
       "Manipur                 2102\n",
       "Nagaland                1728\n",
       "Daman & Diu             1391\n",
       "Lakshadweep               50\n",
       "Name: Total, dtype: int64"
      ]
     },
     "execution_count": 14,
     "metadata": {},
     "output_type": "execute_result"
    }
   ],
   "source": [
    "D1 = data.groupby('State').Total.sum().sort_values(ascending = False)       #D=state\n",
    "D1"
   ]
  },
  {
   "cell_type": "code",
   "execution_count": 15,
   "id": "75a85d7e-b292-4adb-adc8-7160ea2ae54d",
   "metadata": {},
   "outputs": [
    {
     "data": {
      "image/png": "[encoded data removed]",
      "text/plain": [
       "<Figure size 850x600 with 1 Axes>"
      ]
     },
     "metadata": {},
     "output_type": "display_data"
    }
   ],
   "source": [
    "state=D1.index.values\n",
    "total=D1.values\n",
    "plt.rcParams[\"figure.figsize\"] = [8.50, 6.00]\n",
    "plt.rcParams[\"figure.autolayout\"] = True\n",
    "fig = plt.figure()\n",
    "plt.xlabel(\"State\")\n",
    "plt.ylabel(\"Total no. of suicides\")\n",
    "plt.bar(state,total,width=0.7,color='black')\n",
    "plt.xticks(rotation = 90)\n",
    "spacing = 0.100\n",
    "fig.subplots_adjust(bottom=spacing)\n",
    "plt.show()"
   ]
  },
  {
   "cell_type": "code",
   "execution_count": 16,
   "id": "d0f90314-127d-4278-8cc1-ed6fad21f879",
   "metadata": {},
   "outputs": [
    {
     "data": {
      "text/plain": [
       "Year\n",
       "2012     588562\n",
       "2013    4426900\n",
       "2014     977367\n",
       "2015     857524\n",
       "2016    1331301\n",
       "2017     837307\n",
       "2018     339051\n",
       "2019     907254\n",
       "2020     473276\n",
       "2021     842582\n",
       "2022     225074\n",
       "2023     988797\n",
       "2024     276739\n",
       "Name: Total, dtype: int64"
      ]
     },
     "execution_count": 16,
     "metadata": {},
     "output_type": "execute_result"
    }
   ],
   "source": [
    "D=data.groupby('Year').Total.sum()     #D=Year\n",
    "D"
   ]
  },
  {
   "cell_type": "code",
   "execution_count": 17,
   "id": "4087ec00-7f6c-4d0c-84c8-a7d9ca4ffa6d",
   "metadata": {},
   "outputs": [
    {
     "data": {
      "image/png": "[encoded data removed]",
      "text/plain": [
       "<Figure size 650x400 with 1 Axes>"
      ]
     },
     "metadata": {},
     "output_type": "display_data"
    }
   ],
   "source": [
    "year=D.index.values\n",
    "total=D.values\n",
    "plt.rcParams[\"figure.figsize\"] = [6.50, 4.00]\n",
    "plt.rcParams[\"figure.autolayout\"] = True\n",
    "fig = plt.figure()\n",
    "plt.xlabel(\"Year\")\n",
    "plt.ylabel(\"Total no. of suicides\")\n",
    "plt.bar(year,total,width=0.7,color='black')\n",
    "spacing = 0.100\n",
    "fig.subplots_adjust(bottom=spacing)\n",
    "plt.show()"
   ]
  },
  {
   "cell_type": "code",
   "execution_count": 18,
   "id": "40bfc95e-9819-4656-b757-d9e17a77d135",
   "metadata": {},
   "outputs": [
    {
     "data": {
      "text/plain": [
       "Type_code\n",
       "Education_Status        4367793\n",
       "Social_Status           4367793\n",
       "Means_adopted           1455931\n",
       "Causes                  1440974\n",
       "Professional_Profile    1439243\n",
       "Name: Total, dtype: int64"
      ]
     },
     "execution_count": 18,
     "metadata": {},
     "output_type": "execute_result"
    }
   ],
   "source": [
    "D2 = data.groupby('Type_code').Total.sum().sort_values(ascending=False)  #D2=Type code\n",
    "D2"
   ]
  },
  {
   "cell_type": "code",
   "execution_count": 57,
   "id": "c9819024-4d30-4cb1-8c42-a7464804e14c",
   "metadata": {},
   "outputs": [
    {
     "ename": "ValueError",
     "evalue": "shape mismatch: objects cannot be broadcast to a single shape.  Mismatch is between arg 0 with shape (5,) and arg 1 with shape (13,).",
     "output_type": "error",
     "traceback": [
      "\u001b[1;31m---------------------------------------------------------------------------\u001b[0m",
      "\u001b[1;31mValueError\u001b[0m                                Traceback (most recent call last)",
      "Cell \u001b[1;32mIn[57], line 5\u001b[0m\n\u001b[0;32m      3\u001b[0m plt\u001b[38;5;241m.\u001b[39mxlabel(\u001b[38;5;124m\"\u001b[39m\u001b[38;5;124mType\u001b[39m\u001b[38;5;124m\"\u001b[39m)\n\u001b[0;32m      4\u001b[0m plt\u001b[38;5;241m.\u001b[39mylabel(\u001b[38;5;124m\"\u001b[39m\u001b[38;5;124mTotal no. of suicides\u001b[39m\u001b[38;5;124m\"\u001b[39m)\n\u001b[1;32m----> 5\u001b[0m plt\u001b[38;5;241m.\u001b[39mbar(Type,total,width\u001b[38;5;241m=\u001b[39m\u001b[38;5;241m0.5\u001b[39m,color\u001b[38;5;241m=\u001b[39m\u001b[38;5;124m'\u001b[39m\u001b[38;5;124mblack\u001b[39m\u001b[38;5;124m'\u001b[39m)\n\u001b[0;32m      6\u001b[0m plt\u001b[38;5;241m.\u001b[39mxticks(rotation\u001b[38;5;241m=\u001b[39m\u001b[38;5;241m15\u001b[39m)\n\u001b[0;32m      7\u001b[0m plt\u001b[38;5;241m.\u001b[39mshow()\n",
      "File \u001b[1;32m~\\anaconda3\\Lib\\site-packages\\matplotlib\\pyplot.py:2956\u001b[0m, in \u001b[0;36mbar\u001b[1;34m(x, height, width, bottom, align, data, **kwargs)\u001b[0m\n\u001b[0;32m   2945\u001b[0m \u001b[38;5;129m@_copy_docstring_and_deprecators\u001b[39m(Axes\u001b[38;5;241m.\u001b[39mbar)\n\u001b[0;32m   2946\u001b[0m \u001b[38;5;28;01mdef\u001b[39;00m \u001b[38;5;21mbar\u001b[39m(\n\u001b[0;32m   2947\u001b[0m     x: \u001b[38;5;28mfloat\u001b[39m \u001b[38;5;241m|\u001b[39m ArrayLike,\n\u001b[1;32m   (...)\u001b[0m\n\u001b[0;32m   2954\u001b[0m     \u001b[38;5;241m*\u001b[39m\u001b[38;5;241m*\u001b[39mkwargs,\n\u001b[0;32m   2955\u001b[0m ) \u001b[38;5;241m-\u001b[39m\u001b[38;5;241m>\u001b[39m BarContainer:\n\u001b[1;32m-> 2956\u001b[0m     \u001b[38;5;28;01mreturn\u001b[39;00m gca()\u001b[38;5;241m.\u001b[39mbar(\n\u001b[0;32m   2957\u001b[0m         x,\n\u001b[0;32m   2958\u001b[0m         height,\n\u001b[0;32m   2959\u001b[0m         width\u001b[38;5;241m=\u001b[39mwidth,\n\u001b[0;32m   2960\u001b[0m         bottom\u001b[38;5;241m=\u001b[39mbottom,\n\u001b[0;32m   2961\u001b[0m         align\u001b[38;5;241m=\u001b[39malign,\n\u001b[0;32m   2962\u001b[0m         \u001b[38;5;241m*\u001b[39m\u001b[38;5;241m*\u001b[39m({\u001b[38;5;124m\"\u001b[39m\u001b[38;5;124mdata\u001b[39m\u001b[38;5;124m\"\u001b[39m: data} \u001b[38;5;28;01mif\u001b[39;00m data \u001b[38;5;129;01mis\u001b[39;00m \u001b[38;5;129;01mnot\u001b[39;00m \u001b[38;5;28;01mNone\u001b[39;00m \u001b[38;5;28;01melse\u001b[39;00m {}),\n\u001b[0;32m   2963\u001b[0m         \u001b[38;5;241m*\u001b[39m\u001b[38;5;241m*\u001b[39mkwargs,\n\u001b[0;32m   2964\u001b[0m     )\n",
      "File \u001b[1;32m~\\anaconda3\\Lib\\site-packages\\matplotlib\\__init__.py:1473\u001b[0m, in \u001b[0;36m_preprocess_data.<locals>.inner\u001b[1;34m(ax, data, *args, **kwargs)\u001b[0m\n\u001b[0;32m   1470\u001b[0m \u001b[38;5;129m@functools\u001b[39m\u001b[38;5;241m.\u001b[39mwraps(func)\n\u001b[0;32m   1471\u001b[0m \u001b[38;5;28;01mdef\u001b[39;00m \u001b[38;5;21minner\u001b[39m(ax, \u001b[38;5;241m*\u001b[39margs, data\u001b[38;5;241m=\u001b[39m\u001b[38;5;28;01mNone\u001b[39;00m, \u001b[38;5;241m*\u001b[39m\u001b[38;5;241m*\u001b[39mkwargs):\n\u001b[0;32m   1472\u001b[0m     \u001b[38;5;28;01mif\u001b[39;00m data \u001b[38;5;129;01mis\u001b[39;00m \u001b[38;5;28;01mNone\u001b[39;00m:\n\u001b[1;32m-> 1473\u001b[0m         \u001b[38;5;28;01mreturn\u001b[39;00m func(\n\u001b[0;32m   1474\u001b[0m             ax,\n\u001b[0;32m   1475\u001b[0m             \u001b[38;5;241m*\u001b[39m\u001b[38;5;28mmap\u001b[39m(sanitize_sequence, args),\n\u001b[0;32m   1476\u001b[0m             \u001b[38;5;241m*\u001b[39m\u001b[38;5;241m*\u001b[39m{k: sanitize_sequence(v) \u001b[38;5;28;01mfor\u001b[39;00m k, v \u001b[38;5;129;01min\u001b[39;00m kwargs\u001b[38;5;241m.\u001b[39mitems()})\n\u001b[0;32m   1478\u001b[0m     bound \u001b[38;5;241m=\u001b[39m new_sig\u001b[38;5;241m.\u001b[39mbind(ax, \u001b[38;5;241m*\u001b[39margs, \u001b[38;5;241m*\u001b[39m\u001b[38;5;241m*\u001b[39mkwargs)\n\u001b[0;32m   1479\u001b[0m     auto_label \u001b[38;5;241m=\u001b[39m (bound\u001b[38;5;241m.\u001b[39marguments\u001b[38;5;241m.\u001b[39mget(label_namer)\n\u001b[0;32m   1480\u001b[0m                   \u001b[38;5;129;01mor\u001b[39;00m bound\u001b[38;5;241m.\u001b[39mkwargs\u001b[38;5;241m.\u001b[39mget(label_namer))\n",
      "File \u001b[1;32m~\\anaconda3\\Lib\\site-packages\\matplotlib\\axes\\_axes.py:2520\u001b[0m, in \u001b[0;36mAxes.bar\u001b[1;34m(self, x, height, width, bottom, align, **kwargs)\u001b[0m\n\u001b[0;32m   2517\u001b[0m     \u001b[38;5;28;01mif\u001b[39;00m yerr \u001b[38;5;129;01mis\u001b[39;00m \u001b[38;5;129;01mnot\u001b[39;00m \u001b[38;5;28;01mNone\u001b[39;00m:\n\u001b[0;32m   2518\u001b[0m         yerr \u001b[38;5;241m=\u001b[39m \u001b[38;5;28mself\u001b[39m\u001b[38;5;241m.\u001b[39m_convert_dx(yerr, y0, y, \u001b[38;5;28mself\u001b[39m\u001b[38;5;241m.\u001b[39mconvert_yunits)\n\u001b[1;32m-> 2520\u001b[0m x, height, width, y, linewidth, hatch \u001b[38;5;241m=\u001b[39m np\u001b[38;5;241m.\u001b[39mbroadcast_arrays(\n\u001b[0;32m   2521\u001b[0m     \u001b[38;5;66;03m# Make args iterable too.\u001b[39;00m\n\u001b[0;32m   2522\u001b[0m     np\u001b[38;5;241m.\u001b[39matleast_1d(x), height, width, y, linewidth, hatch)\n\u001b[0;32m   2524\u001b[0m \u001b[38;5;66;03m# Now that units have been converted, set the tick locations.\u001b[39;00m\n\u001b[0;32m   2525\u001b[0m \u001b[38;5;28;01mif\u001b[39;00m orientation \u001b[38;5;241m==\u001b[39m \u001b[38;5;124m'\u001b[39m\u001b[38;5;124mvertical\u001b[39m\u001b[38;5;124m'\u001b[39m:\n",
      "File \u001b[1;32m~\\anaconda3\\Lib\\site-packages\\numpy\\lib\\stride_tricks.py:540\u001b[0m, in \u001b[0;36mbroadcast_arrays\u001b[1;34m(subok, *args)\u001b[0m\n\u001b[0;32m    533\u001b[0m \u001b[38;5;66;03m# nditer is not used here to avoid the limit of 32 arrays.\u001b[39;00m\n\u001b[0;32m    534\u001b[0m \u001b[38;5;66;03m# Otherwise, something like the following one-liner would suffice:\u001b[39;00m\n\u001b[0;32m    535\u001b[0m \u001b[38;5;66;03m# return np.nditer(args, flags=['multi_index', 'zerosize_ok'],\u001b[39;00m\n\u001b[0;32m    536\u001b[0m \u001b[38;5;66;03m#                  order='C').itviews\u001b[39;00m\n\u001b[0;32m    538\u001b[0m args \u001b[38;5;241m=\u001b[39m [np\u001b[38;5;241m.\u001b[39marray(_m, copy\u001b[38;5;241m=\u001b[39m\u001b[38;5;28;01mFalse\u001b[39;00m, subok\u001b[38;5;241m=\u001b[39msubok) \u001b[38;5;28;01mfor\u001b[39;00m _m \u001b[38;5;129;01min\u001b[39;00m args]\n\u001b[1;32m--> 540\u001b[0m shape \u001b[38;5;241m=\u001b[39m _broadcast_shape(\u001b[38;5;241m*\u001b[39margs)\n\u001b[0;32m    542\u001b[0m \u001b[38;5;28;01mif\u001b[39;00m \u001b[38;5;28mall\u001b[39m(array\u001b[38;5;241m.\u001b[39mshape \u001b[38;5;241m==\u001b[39m shape \u001b[38;5;28;01mfor\u001b[39;00m array \u001b[38;5;129;01min\u001b[39;00m args):\n\u001b[0;32m    543\u001b[0m     \u001b[38;5;66;03m# Common case where nothing needs to be broadcasted.\u001b[39;00m\n\u001b[0;32m    544\u001b[0m     \u001b[38;5;28;01mreturn\u001b[39;00m args\n",
      "File \u001b[1;32m~\\anaconda3\\Lib\\site-packages\\numpy\\lib\\stride_tricks.py:422\u001b[0m, in \u001b[0;36m_broadcast_shape\u001b[1;34m(*args)\u001b[0m\n\u001b[0;32m    417\u001b[0m \u001b[38;5;250m\u001b[39m\u001b[38;5;124;03m\"\"\"Returns the shape of the arrays that would result from broadcasting the\u001b[39;00m\n\u001b[0;32m    418\u001b[0m \u001b[38;5;124;03msupplied arrays against each other.\u001b[39;00m\n\u001b[0;32m    419\u001b[0m \u001b[38;5;124;03m\"\"\"\u001b[39;00m\n\u001b[0;32m    420\u001b[0m \u001b[38;5;66;03m# use the old-iterator because np.nditer does not handle size 0 arrays\u001b[39;00m\n\u001b[0;32m    421\u001b[0m \u001b[38;5;66;03m# consistently\u001b[39;00m\n\u001b[1;32m--> 422\u001b[0m b \u001b[38;5;241m=\u001b[39m np\u001b[38;5;241m.\u001b[39mbroadcast(\u001b[38;5;241m*\u001b[39margs[:\u001b[38;5;241m32\u001b[39m])\n\u001b[0;32m    423\u001b[0m \u001b[38;5;66;03m# unfortunately, it cannot handle 32 or more arguments directly\u001b[39;00m\n\u001b[0;32m    424\u001b[0m \u001b[38;5;28;01mfor\u001b[39;00m pos \u001b[38;5;129;01min\u001b[39;00m \u001b[38;5;28mrange\u001b[39m(\u001b[38;5;241m32\u001b[39m, \u001b[38;5;28mlen\u001b[39m(args), \u001b[38;5;241m31\u001b[39m):\n\u001b[0;32m    425\u001b[0m     \u001b[38;5;66;03m# ironically, np.broadcast does not properly handle np.broadcast\u001b[39;00m\n\u001b[0;32m    426\u001b[0m     \u001b[38;5;66;03m# objects (it treats them as scalars)\u001b[39;00m\n\u001b[0;32m    427\u001b[0m     \u001b[38;5;66;03m# use broadcasting to avoid allocating the full array\u001b[39;00m\n",
      "\u001b[1;31mValueError\u001b[0m: shape mismatch: objects cannot be broadcast to a single shape.  Mismatch is between arg 0 with shape (5,) and arg 1 with shape (13,)."
     ]
    },
    {
     "data": {
      "image/png": "[encoded data removed]",
      "text/plain": [
       "<Figure size 650x400 with 1 Axes>"
      ]
     },
     "metadata": {},
     "output_type": "display_data"
    }
   ],
   "source": [
    "Type=D2.index.values\n",
    "Total=D2.values\n",
    "plt.xlabel(\"Type\")\n",
    "plt.ylabel(\"Total no. of suicides\")\n",
    "plt.bar(Type,total,width=0.5,color='black')\n",
    "plt.xticks(rotation=15)\n",
    "plt.show()"
   ]
  },
  {
   "cell_type": "code",
   "execution_count": null,
   "id": "a378fc7a-1031-4fbd-b7ae-5f056ee08790",
   "metadata": {},
   "outputs": [],
   "source": [
    "dummies1=pd.get_dummies(data.Type)\n",
    "dummies1"
   ]
  },
  {
   "cell_type": "code",
   "execution_count": null,
   "id": "3e0b4f3c-a93b-408a-afcb-0398f83f5cec",
   "metadata": {},
   "outputs": [],
   "source": [
    "dummies2=pd.get_dummies(data['State'])\n",
    "dummies2"
   ]
  },
  {
   "cell_type": "code",
   "execution_count": null,
   "id": "895e615d-121b-4dc7-a933-3b5ede3e9b28",
   "metadata": {},
   "outputs": [],
   "source": [
    "data_new=pd.concat([data,dummies1,dummies2],axis='columns')\n",
    "data_new"
   ]
  },
  {
   "cell_type": "code",
   "execution_count": null,
   "id": "043347d2-3d71-4f26-9511-ccef4a0a2df9",
   "metadata": {},
   "outputs": [],
   "source": [
    "data_new=data_new.drop('State',axis='columns')\n",
    "data_new.head()"
   ]
  },
  {
   "cell_type": "code",
   "execution_count": null,
   "id": "69352816-78b2-4bd1-b510-152474fad93e",
   "metadata": {},
   "outputs": [],
   "source": [
    "data_new=data_new.drop('Type_code',axis='columns')\n",
    "data_new.head()"
   ]
  },
  {
   "cell_type": "code",
   "execution_count": null,
   "id": "c6f42d22-7697-4d2d-af97-12501a0966d8",
   "metadata": {},
   "outputs": [],
   "source": [
    "data_new=data_new.drop('Gender',axis='columns')\n",
    "data_new.head()"
   ]
  },
  {
   "cell_type": "code",
   "execution_count": null,
   "id": "df0f0092-adcb-4423-96b3-49feadcadfa1",
   "metadata": {},
   "outputs": [],
   "source": [
    "x=data_new.drop('Total',axis='columns')\n",
    "x.head()"
   ]
  },
  {
   "cell_type": "code",
   "execution_count": null,
   "id": "26232d20-cf23-45b0-8d2b-48a260d4c103",
   "metadata": {},
   "outputs": [],
   "source": [
    "y=data_new.Total\n",
    "y.head()"
   ]
  },
  {
   "cell_type": "code",
   "execution_count": null,
   "id": "e62f8804-b5a4-4233-afc0-ee7ca06a35d5",
   "metadata": {},
   "outputs": [],
   "source": [
    "from sklearn.model_selection import train_test_split\n",
    "x_train,x_test,y_train,y_test=train_test_split(x,y,test_size=0.2,random_state=10)"
   ]
  },
  {
   "cell_type": "code",
   "execution_count": null,
   "id": "d77b186c-c845-4805-807f-eea9248ca664",
   "metadata": {},
   "outputs": [],
   "source": [
    "print(x_test)\n",
    "print(y_test)"
   ]
  },
  {
   "cell_type": "code",
   "execution_count": null,
   "id": "7757e591-d41c-42ff-916c-8766059a632a",
   "metadata": {},
   "outputs": [],
   "source": [
    "from sklearn.linear_model import LinearRegression\n",
    "lr=LinearRegression()\n",
    "lr.fit(x_train,y_train)\n",
    "lr.score(x_test,y_test)"
   ]
  },
  {
   "cell_type": "code",
   "execution_count": null,
   "id": "87716321-a216-4fd2-9af0-ad51f4da9e25",
   "metadata": {},
   "outputs": [],
   "source": [
    "D.index.values"
   ]
  },
  {
   "cell_type": "code",
   "execution_count": null,
   "id": "c3b0c50f-c1da-40ce-952d-3b613026ab76",
   "metadata": {},
   "outputs": [],
   "source": [
    "x = D.index.values\n",
    "y = D.values"
   ]
  },
  {
   "cell_type": "code",
   "execution_count": null,
   "id": "dee64be6-facb-483e-9dcf-aa4ea4b08f2b",
   "metadata": {},
   "outputs": [],
   "source": [
    "plt.scatter(x,y)\n",
    "plt.show()"
   ]
  },
  {
   "cell_type": "code",
   "execution_count": null,
   "id": "6c946549-92a3-4a53-8340-0f69a871f06a",
   "metadata": {},
   "outputs": [],
   "source": [
    "edudata = data[data['Type_code']=='Education_Status']"
   ]
  },
  {
   "cell_type": "code",
   "execution_count": null,
   "id": "6cfb0e56-c38c-425e-91b7-d9bd2e2dd6a5",
   "metadata": {},
   "outputs": [],
   "source": [
    "data.shape,edudata.shape"
   ]
  },
  {
   "cell_type": "code",
   "execution_count": null,
   "id": "3a8fdaff-c85b-44da-b374-4be659c7054b",
   "metadata": {},
   "outputs": [],
   "source": [
    "causesdata = data[data['Type_code']=='Causes']\n",
    "causesdata.head()"
   ]
  },
  {
   "cell_type": "code",
   "execution_count": null,
   "id": "0c36c911-368f-4496-aaa9-b2fe4a1d5f31",
   "metadata": {},
   "outputs": [],
   "source": [
    "profdata = data[data['Type_code']=='Professional_Profile']\n",
    "profdata.head()"
   ]
  },
  {
   "cell_type": "code",
   "execution_count": null,
   "id": "84f00526-d817-455a-bdd6-5fe5ec28d600",
   "metadata": {},
   "outputs": [],
   "source": [
    "meandata = data[data['Type_code']=='Means_adopted']\n",
    "meandata.head()"
   ]
  },
  {
   "cell_type": "code",
   "execution_count": null,
   "id": "b789fb0e-987d-411e-bbc5-6144b982f2e9",
   "metadata": {},
   "outputs": [],
   "source": [
    "\n",
    "edudata.head()"
   ]
  },
  {
   "cell_type": "code",
   "execution_count": null,
   "id": "431b7faf-d8af-4979-a090-ec3ccd3a26e5",
   "metadata": {},
   "outputs": [],
   "source": [
    "edudata = edudata[['Type','Gender','Total']]\n",
    "edudata.head()"
   ]
  },
  {
   "cell_type": "code",
   "execution_count": null,
   "id": "19fd3c0e-3899-4577-b4b6-a8bda541d51c",
   "metadata": {},
   "outputs": [],
   "source": [
    "edSort = edudata.groupby(['Type','Gender'],as_index = False).sum().sort_values('Total',ascending = False)\n",
    "edSort.head()"
   ]
  },
  {
   "cell_type": "code",
   "execution_count": null,
   "id": "56f547d2-1c52-4be7-a32b-d8222333fce1",
   "metadata": {
    "scrolled": true
   },
   "outputs": [],
   "source": [
    "plt.figure(figsize=(12,6))\n",
    "sns.barplot(x='Type',y = 'Total',hue = 'Gender',data = edSort)\n",
    "plt.xticks(rotation = 20)\n",
    "plt.tight_layout()"
   ]
  },
  {
   "cell_type": "code",
   "execution_count": null,
   "id": "c214342a-233b-4f6d-b5e6-faec88e5ffd4",
   "metadata": {},
   "outputs": [],
   "source": [
    "data.groupby('Gender').Total.sum()"
   ]
  },
  {
   "cell_type": "code",
   "execution_count": null,
   "id": "1a12f79b-37e2-445e-a25f-fda91541c849",
   "metadata": {},
   "outputs": [],
   "source": [
    "data.groupby(['State','Year']).Total.sum()"
   ]
  },
  {
   "cell_type": "code",
   "execution_count": null,
   "id": "0d7077e4-a8d2-49eb-b9f3-edba2d2bf6a2",
   "metadata": {},
   "outputs": [],
   "source": [
    "data.groupby(['State','Year'])[['Total']].sum().to_html('index.html')\n",
    "data.groupby(['State','Year'])[['Total']].sum().to_csv('index.csv')"
   ]
  },
  {
   "cell_type": "code",
   "execution_count": null,
   "id": "500a6eb2-c685-464e-8244-b3aef0c36c06",
   "metadata": {},
   "outputs": [],
   "source": [
    "data.groupby(['State','Gender'])[['Total']].sum()"
   ]
  },
  {
   "cell_type": "code",
   "execution_count": null,
   "id": "3c9861b9-0d12-4440-852f-8642208bb85a",
   "metadata": {},
   "outputs": [],
   "source": [
    "data.groupby(['Year','Gender'])[['Total']].sum()"
   ]
  },
  {
   "cell_type": "code",
   "execution_count": null,
   "id": "b4aec945-3d3f-4105-9035-cb6231b4abbc",
   "metadata": {},
   "outputs": [],
   "source": [
    "data.groupby(['Year','State','Gender'])[['Total']].sum()"
   ]
  },
  {
   "cell_type": "code",
   "execution_count": null,
   "id": "d9e55331-c674-425a-ac43-3749a68bfbfb",
   "metadata": {},
   "outputs": [],
   "source": [
    "data.groupby(['Year','State','Gender'])[['Total']].sum().to_html('index.html')"
   ]
  },
  {
   "cell_type": "code",
   "execution_count": null,
   "id": "9aa67af8-61b4-4e65-9c65-6fcb35cd4818",
   "metadata": {},
   "outputs": [],
   "source": [
    "data.groupby(['Year','State','Gender'])[['Total']].sum()"
   ]
  },
  {
   "cell_type": "code",
   "execution_count": null,
   "id": "47598715-e1ae-4f77-9b55-df0fa0605552",
   "metadata": {},
   "outputs": [],
   "source": [
    "data.groupby('Type').Total.sum().sort_values(ascending=False)"
   ]
  },
  {
   "cell_type": "code",
   "execution_count": null,
   "id": "34ebab52-d386-47ea-9390-a02c784529dd",
   "metadata": {},
   "outputs": [],
   "source": [
    "D = data.groupby('Year').Total.sum()\n",
    "D"
   ]
  },
  {
   "cell_type": "code",
   "execution_count": null,
   "id": "4061b274-a1bf-48b2-b01a-42d08cd446a0",
   "metadata": {},
   "outputs": [],
   "source": [
    "x=  D.index.values.reshape(-1,1)\n",
    "x"
   ]
  },
  {
   "cell_type": "code",
   "execution_count": null,
   "id": "8cdf28e1-3b2c-4e54-910f-894d0414ccd0",
   "metadata": {},
   "outputs": [],
   "source": [
    "y = D.values\n",
    "y"
   ]
  },
  {
   "cell_type": "code",
   "execution_count": null,
   "id": "e043a28f-a6a9-4b04-b1fe-b609b117d7ed",
   "metadata": {},
   "outputs": [],
   "source": [
    "plt.scatter(x,y)\n",
    "plt.xlabel('Year')\n",
    "plt.ylabel('Total Suicide')\n",
    "plt.show()"
   ]
  },
  {
   "cell_type": "code",
   "execution_count": null,
   "id": "90ce3847-cd50-4716-a60f-7fa56e99e30a",
   "metadata": {},
   "outputs": [],
   "source": [
    "import numpy as np\n",
    "from sklearn.linear_model import LinearRegression\n",
    "reg = LinearRegression()\n",
    "reg.fit(x,y)"
   ]
  },
  {
   "cell_type": "code",
   "execution_count": null,
   "id": "85c9134b-7855-47ad-bb99-11855cfc1a28",
   "metadata": {},
   "outputs": [],
   "source": [
    "reg.coef_"
   ]
  },
  {
   "cell_type": "code",
   "execution_count": null,
   "id": "6a79e9b8-6053-42e6-b633-e35be3484e8f",
   "metadata": {},
   "outputs": [],
   "source": [
    "reg.intercept_"
   ]
  },
  {
   "cell_type": "code",
   "execution_count": null,
   "id": "59d7a281-6451-4a0c-bced-893cf0764739",
   "metadata": {},
   "outputs": [],
   "source": [
    "Yp = reg.predict(x)\n",
    "Yp"
   ]
  },
  {
   "cell_type": "code",
   "execution_count": null,
   "id": "31a3334a-892a-4dc7-895e-c5db96ed5e8c",
   "metadata": {},
   "outputs": [],
   "source": [
    "plt.scatter(x,y)\n",
    "plt.xlabel('Year')\n",
    "plt.ylabel('Total Suicide rate')\n",
    "plt.plot(x,Yp)\n",
    "plt.grid(True, linestyle='--', alpha=0.7)\n",
    "plt.tight_layout()\n",
    "plt.show()"
   ]
  },
  {
   "cell_type": "code",
   "execution_count": null,
   "id": "1cc6c05a-51b7-4bba-b5ab-4603a12c6a88",
   "metadata": {},
   "outputs": [],
   "source": [
    "reg.score(x,y) * 100"
   ]
  },
  {
   "cell_type": "code",
   "execution_count": null,
   "id": "aa5d198e-5160-49ab-92ac-34d6b74c11d5",
   "metadata": {
    "scrolled": true
   },
   "outputs": [],
   "source": [
    "import numpy as np\n",
    "from sklearn.neighbors import KNeighborsRegressor\n",
    "from sklearn.model_selection import train_test_split\n"
   ]
  },
  {
   "cell_type": "code",
   "execution_count": null,
   "id": "6daf5734-9886-40d6-a50a-02ab69a9257a",
   "metadata": {},
   "outputs": [],
   "source": [
    "years = np.array([2012, 2014, 2015, 2016, 2018, 2020, 2022, 2024]).reshape(-1, 1)\n",
    "rates = np.array([12.3, 13.1, 13.5, 14.2, 15.0, 16.1, 17.0, 18.5])"
   ]
  },
  {
   "cell_type": "code",
   "execution_count": null,
   "id": "25aad689-f51f-4f07-9667-d4fedecd0dcd",
   "metadata": {},
   "outputs": [],
   "source": [
    "X_train, X_test, y_train, y_test = train_test_split(years, rates, test_size=0.2, random_state=10)\n"
   ]
  },
  {
   "cell_type": "code",
   "execution_count": null,
   "id": "99bac79b-2ccb-4dd9-8bb6-a0f33d815030",
   "metadata": {},
   "outputs": [],
   "source": [
    "knn_model = KNeighborsRegressor(n_neighbors=3)\n"
   ]
  },
  {
   "cell_type": "code",
   "execution_count": null,
   "id": "31ec2a06-0289-40fe-b032-3ddb6f596cb6",
   "metadata": {},
   "outputs": [],
   "source": [
    "knn_model.fit(X_train,y_train)"
   ]
  },
  {
   "cell_type": "code",
   "execution_count": null,
   "id": "654efeac-bd32-4a65-88de-4700c1b2fd18",
   "metadata": {},
   "outputs": [],
   "source": [
    "knn_model.score(X_test,y_test)"
   ]
  },
  {
   "cell_type": "code",
   "execution_count": null,
   "id": "1d5389ec-ffa6-42ae-bc3c-993536837e66",
   "metadata": {},
   "outputs": [],
   "source": [
    "y_pred_train = knn_model.predict(X_train)\n",
    "y_pred_test = knn_model.predict(X_test)"
   ]
  },
  {
   "cell_type": "code",
   "execution_count": null,
   "id": "e45eed67-2f38-4042-958a-e8db63cce65b",
   "metadata": {},
   "outputs": [],
   "source": [
    "plt.figure(figsize=(10, 6))\n"
   ]
  },
  {
   "cell_type": "code",
   "execution_count": null,
   "id": "8195238a-9bb0-42bc-9fec-ce484a2dc5fd",
   "metadata": {},
   "outputs": [],
   "source": [
    "plt.scatter(X_train, y_train, color='blue', label='Training Data', s=100)\n",
    "plt.xlabel('Year')\n",
    "plt.ylabel('Total Suicide rate')\n",
    "plt.grid(True, linestyle='--', alpha=0.7)\n",
    "plt.tight_layout()"
   ]
  },
  {
   "cell_type": "code",
   "execution_count": null,
   "id": "98b05011-7a59-4829-b025-7f3421eb7e71",
   "metadata": {},
   "outputs": [],
   "source": [
    "plt.scatter(X_test, y_test, color='red', label='Test Data', s=100)\n",
    "plt.grid(True, linestyle='--', alpha=0.7)\n",
    "plt.tight_layout()"
   ]
  },
  {
   "cell_type": "code",
   "execution_count": null,
   "id": "9ed0dd70-473c-4a91-947c-3e077e8fb01f",
   "metadata": {},
   "outputs": [],
   "source": [
    "plt.scatter(X_train, y_pred_train, color='green', marker='x', label='KNN Predictions (Train)', s=100)\n",
    "plt.grid(True, linestyle='--', alpha=0.7)\n",
    "plt.tight_layout()"
   ]
  },
  {
   "cell_type": "code",
   "execution_count": null,
   "id": "1c8222b9-e560-4266-b76f-bed52fd1f841",
   "metadata": {},
   "outputs": [],
   "source": [
    "plt.scatter(X_test, y_pred_test, color='orange', marker='x', label='KNN Predictions (Test)', s=100)\n",
    "plt.grid(True, linestyle='--', alpha=0.7)\n",
    "plt.tight_layout()"
   ]
  },
  {
   "cell_type": "code",
   "execution_count": null,
   "id": "6ba16fba-b2a9-4a43-8115-70e41b30002e",
   "metadata": {},
   "outputs": [],
   "source": [
    "plt.scatter(X_train, y_train)\n",
    "plt.title('KNN Regression')\n",
    "plt.xlabel('Years')\n",
    "plt.ylabel('Suicide Rates')\n",
    "plt.grid(True, linestyle='--', alpha=0.7)\n",
    "plt.tight_layout()"
   ]
  },
  {
   "cell_type": "code",
   "execution_count": null,
   "id": "088bf71f-87bc-4ba1-b218-513d6222b922",
   "metadata": {},
   "outputs": [],
   "source": [
    "plt.figure(figsize=(12,6))\n",
    "sns.barplot(x='Type',y = 'Total',hue = 'Gender',data = edSort)\n",
    "plt.xticks(rotation = 20)\n",
    "plt.tight_layout()"
   ]
  },
  {
   "cell_type": "code",
   "execution_count": null,
   "id": "6568ca21-8a99-4596-8b70-67512f08f438",
   "metadata": {},
   "outputs": [],
   "source": [
    "D = data.groupby('Year').Total.sum()\n",
    "D"
   ]
  },
  {
   "cell_type": "code",
   "execution_count": null,
   "id": "4c73bb98-c182-4432-89af-6339746c7f24",
   "metadata": {},
   "outputs": [],
   "source": [
    "from sklearn.tree import DecisionTreeRegressor\n",
    "import matplotlib.pyplot as plt"
   ]
  },
  {
   "cell_type": "code",
   "execution_count": null,
   "id": "36e25aee-ce77-4fab-b270-883bfb0011ef",
   "metadata": {},
   "outputs": [],
   "source": [
    "x = np.array([D.index.values.reshape(-1,1)])\n",
    "y = np.array([D.values])\n"
   ]
  },
  {
   "cell_type": "code",
   "execution_count": null,
   "id": "1694f6b8-789b-40ee-9af1-8a65b2a24fdd",
   "metadata": {},
   "outputs": [],
   "source": [
    "x_reshaped = x.reshape(x.shape[0], -1)\n"
   ]
  },
  {
   "cell_type": "code",
   "execution_count": null,
   "id": "50c4527d-0e64-4227-bb16-571f920fd32f",
   "metadata": {},
   "outputs": [],
   "source": [
    "x_reshaped"
   ]
  },
  {
   "cell_type": "code",
   "execution_count": null,
   "id": "1e4f95ee-91ff-4c08-b65d-8d5307e54654",
   "metadata": {},
   "outputs": [],
   "source": [
    "reg = DecisionTreeRegressor()\n",
    "reg.fit(x_reshaped, y)"
   ]
  },
  {
   "cell_type": "code",
   "execution_count": null,
   "id": "d70e75b6-87d5-45bd-960e-cc6458f020a6",
   "metadata": {},
   "outputs": [],
   "source": [
    "x_range = np.linspace(x.min(), x.max(), 300).reshape(-1, 1)\n"
   ]
  },
  {
   "cell_type": "code",
   "execution_count": null,
   "id": "b692e46e-c43c-41e2-ba72-7d916e7b071f",
   "metadata": {},
   "outputs": [],
   "source": [
    "yp_smooth = reg.predict(x_reshaped)"
   ]
  },
  {
   "cell_type": "code",
   "execution_count": null,
   "id": "74b37e82-0dc7-4329-b46b-9067b661d4cb",
   "metadata": {},
   "outputs": [],
   "source": [
    "yp_smooth\n"
   ]
  },
  {
   "cell_type": "code",
   "execution_count": null,
   "id": "cca68ff4-84b9-4966-baaf-bfb9cc4ab86e",
   "metadata": {},
   "outputs": [],
   "source": [
    "plt.figure(figsize=(10, 6))\n"
   ]
  },
  {
   "cell_type": "code",
   "execution_count": null,
   "id": "046a58e5-ad36-4281-9f45-22ac0077a439",
   "metadata": {},
   "outputs": [],
   "source": [
    "plt.scatter(x_reshaped, y,color='red', label='Actual Data')\n",
    "plt.plot(x_reshaped,yp_smooth,color='green', label='Predicted Data',linewidth=2)\n",
    "plt.xlabel('Year')\n",
    "plt.ylabel('Total Suicide Rate')\n",
    "plt.title('Actual vs Predicted Suicide Rates')\n",
    "plt.legend()\n",
    "plt.grid(True, linestyle='--', alpha=0.7)\n",
    "plt.tight_layout()\n",
    "plt.show()"
   ]
  },
  {
   "cell_type": "code",
   "execution_count": null,
   "id": "47ca8053-a556-4374-a8ae-30d10a54ed6a",
   "metadata": {},
   "outputs": [],
   "source": [
    "y=D.values"
   ]
  },
  {
   "cell_type": "code",
   "execution_count": null,
   "id": "3a68dfa5-0372-48bf-904b-defa26b4ecb6",
   "metadata": {},
   "outputs": [],
   "source": [
    "y"
   ]
  },
  {
   "cell_type": "code",
   "execution_count": null,
   "id": "ba8dc5a6-ae15-446e-90ab-b8f388fc987c",
   "metadata": {},
   "outputs": [],
   "source": [
    "data['Gender'].sum()"
   ]
  },
  {
   "cell_type": "code",
   "execution_count": null,
   "id": "811096b7-c78d-4927-aba3-7074d699b337",
   "metadata": {},
   "outputs": [],
   "source": []
  }
 ],
 "metadata": {
  "kernelspec": {
   "display_name": "Python 3 (ipykernel)",
   "language": "python",
   "name": "python3"
  },
  "language_info": {
   "codemirror_mode": {
    "name": "ipython",
    "version": 3
   },
   "file_extension": ".py",
   "mimetype": "text/x-python",
   "name": "python",
   "nbconvert_exporter": "python",
   "pygments_lexer": "ipython3",
   "version": "3.12.7"
  }
 },
 "nbformat": 4,
 "nbformat_minor": 5
}
